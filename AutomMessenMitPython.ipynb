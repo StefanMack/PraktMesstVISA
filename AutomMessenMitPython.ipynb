{
 "cells": [
  {
   "cell_type": "markdown",
   "metadata": {},
   "source": [
    "# Automatisiert Messen mit Python und dem IVI (VISA)-Standard\n",
    "Version 11.12.2019, S. Mack\n",
    "## Einleitung\n",
    "In der Automatisierung ist öft nötig, ein Messgerät mit einem Computer zu verbinden. Dabei soll der Computer erstens das Messgerät konfigurieren, also aus der Ferne „bedienen“ können. Zweitens soll das Messgerät dem Computer die Messdaten oder andere Zustandsdaten wie z.B. den aktuellen Messbereich senden. Das Messgerät kann hierbei beispielsweise ein Digitalmultimeter, ein Funktionsgenerator oder ein Oszilloskop sein.  \n",
    "  \n",
    "Oft befinden sich an einer Automatisierungseinrichtung, beispielsweise eine Endprüfanlage, viele verschiedene Messgeräte, die von ein und dem selben Computer bedient werden müssen. Hat nun jedes dieser Messgeräte eine andere Schnittstelle und kommuniziert über andere Protokolle, so wird ein solches Messsystem nicht mehr handhabbar. Manchmal gibt es für das eine Gerät Programmierschnittstellen (APIs) nur für C und für das andere Gerät nur für Java, was einen gemeinsamen Einsatz beider Geräte unmöglich macht. Oder für ein und das selbe Gerät gibt es für die gewählte Programmiersprache zwar das Kommunikationsprotokoll jedoch keine API für die Schnittstelle als fertige Bibliothek.  \n",
    "Dieses Dilemma hat man schon 1962 erkannt, als der RS-232-Standard für die Gerätekommunikation eingeführt wurde, welcher erstaunlicherweise bis heute überlebt hat.  \n",
    "  \n",
    "Mitte der 1990er Jahre wurde der **VISA-Standard (Virtual Instrument Software Achitecture) eingeführt, der es erlaubt, Messgeräte unabhängig von deren Schnittstellen zu konfigurieren, programmieren und zu warten**. VISA kann für die Schnittstellen GPIB, VXI, PXI, Serial, Ethernet, und USB verwendet werden. VISA besteht aus einer API-Spezifikation für C, Visual Basic und G (LabVIEW). Unter Windows wird meistens als Standard-API die Laufzeitbibliothek `visa32.dll` bzw. `visa64.dll` verwendet (ist auch bei pyVISA der Fall).  \n",
    "\n",
    "Zusätzlich zu den Schnittstellen hat man mit dem **SCPI-Standard (Standard Command for Programmable Instruments) die Protokolle, also die Messbefehle für unterschiedliche Messgeräte standardisiert. Er definiert Syntax, Befehlsstruktur und das Datenformat der Messbefehle**, die der PC an das Messgerät sendet. Die Messbefehle werden als ASCII-Zeichen übertragen.  \n",
    "SCPI definiert folgende acht verschiedene Geräteklassen: \"Chassis Dynamometers, Digital Meters, Digitizers, Emissions Benches, Emission Test Cell, Power Supplies, RF & Microwave Sources, Signal Switchers\". Oszilloskope fallen unter die Geräteklasse „Digitizers\".  \n",
    "  \n",
    "Inzwischen sind **VISA und SCPI im IVI-Standard (Interchangeable Virtual Instrument) vereint** worden:  \n",
    "Schlussendlich **beinhaltet IVI somit einen Satz von Standardmessbefehlen für das Messgerät und eine API für unterschiedliche Schnittstellen**.  \n",
    "Schließt man ein Oszilloskop via USB an einen PC an, dann wird ähnlich wie bei einer Coputertastatur ein generischer IVI-Treiber geladen. Im Windows-Gerätemanager erscheint dann ein „USB Test and Measurement Device (IVI)“, Gerätetyp: „USB Test and Measurement Devices“. Hersteller: „IVI Foundation, Inc.“. Ein gerätespezifischer Treiber für das spezielle Oszilloskop wird also nicht benötigt.  \n",
    "Möchte man von diesem Oszilloskop nun Hersteller, Modell, Seriennummer und Firmwarestand wissen, so muss der ensprechende SCPI-Befehl `*IDN?` als ASCII-Zeichen über die USB-Schnittstelle an das Oszilloskop gesendet werden.  \n",
    "SCPI beinhaltet eine Vielzahl standardisierter Messbefehle (z.B. `MEAS:FREQ?` für die Anforderung der gemessenen Frequenz). SCPI-Befehle sind baumartig aufgebaut: In diesem Beispiel ist ` MEAS` der Root-Befehl und `FREQ` ist ein Parameter. Es reicht, bei den Messbefehlen immer nur den großgeschriebenen Teil zu senden, also `MEAS:FREQ?` statt ausgeschrieben `MEASure:FREQuency?`.  \n",
    "Leider implementieren nicht alle Messgerätehersteller diese Befehle in gleichem Umfang oder gleichem Wortlaut. Daher muss man **vorher immer im Programmierhandbuch des Messgeräts den tatsächlichen Befehl nachschlagen**.  \n",
    "Soll das Messgerät nach dem Befehl Daten zurückliefern, dann wird der Befehl mit einem Fragezeichen `?` abgeschlossen. Ein Konfigurationsbefehl benötigt kein Fragezeichen.  \n",
    "  \n",
    "Python kann grundsätzlich C-Laufzeitbibliotheken - also auch die oben erwähnte VISA Dlls verwenden. Darüber hinaus gibt es unter Python die Bibliothek `pyVISA`, um in einfacher Weise auf diese DLLs zuzugreifen. In den nachfolgenden Beispielen werden diese beiden Softwarekomponenten verwendet, um via USB ein Oszilloskop zu konfigurieren, Messungen zu intialisieren und die Messdaten auszulesen.  \n",
    "Darüberhinaus wird der gemessene Spannungsverlauf mit den Python-Bibliotheken `Numpy` und `Matplotllib` grafisch visualisiert."
   ]
  },
  {
   "cell_type": "markdown",
   "metadata": {},
   "source": [
    "## Verwendung von Python für die Messtechnik\n",
    "Grundsätzlich gibt es verschiedene Möglichkeiten, über Python mit einem Messgerät zu kommunizieren: \n",
    "* Man kann im Kommandofenster mit dem Pythoninterpreter interaktiv arbeiten bzw. eine Skriptdatei als Ganzes darin ausführen lassen.\n",
    "* Wesentlich bequemer ist eine Python-IDE wie z.B. \"Spyder\", die einen Editor enthält, in dem das Skript mit Codervervollständigung usw. erstellt wird. Ähnlich wie die MATLAB-IDE enthält Spyder auch einen Variable-Explorer und andere nützliche Features für das Debuggen. Zusätzlich gibt es in Spyder auch eine IPython-Konsole, mit der interaktiv Codeschnipsel aus dem Editor im Python-Interpreter getestet werden können. Diese Vorgehensweise wird im Praktikum Messtechnik verfolgt.\n",
    "* Der hier in diesem Jupyter Notebook verwendete Python-Interpreter basiert ebenfalls auf IPython. Hier liegt aber der Schwerpunkt auf der Dokumentation des Quelltextes und nicht auf dessen Ausführung. Wenn Sie dieses Jupyter Notebook durcharbeiten, dann werden Sie vermutlich nicht ein Oszilloskop am PC angeschlossen haben, um mit Codesequenzen zu spielen. Daher reicht es, wenn Sie dieses Notebook über einen Viewer durcharbeiten.\n",
    "\n",
    "Später im Praktikum erstellen Sie unter der IDE Spyder die Messsoftware im Editor und können die einzelnen Befehlszeilen getrennt in der IPython Konsole testen (dafür die Befehlszeile im Editor markieren, rechte Maustaste > \"Run Cell\").  \n",
    "**Die nachfolgenden Codebeispiele setzen Grundkenntnisse in Python sowie in den beiden Bibliotheken Numpy und Matplotlib voraus. Bitte arbeiten Sie vorher das Grundlagenkapitel des Jupyter Notebooks für die Bildverarbeitung durch.**"
   ]
  },
  {
   "cell_type": "markdown",
   "metadata": {},
   "source": [
    "## Beispiel Python Code für Oszilloskop Rigol DS1054Z\n",
    "Nachfolgend ist beispielhaft für ein Rigol DS1054Z gezeigt, wie nach IVI-Geräten gesucht wird, die Kommunikation mit einem gefundenen Gerät aufgebaut wird, dieses Gerät konfiguriert wird und wie die Messdaten ausgelesen werden.  \n",
    "Die hierfür verwendeten Befehle sind leider nur teils \"echte\" SCPI-Befehle. Sie werden im Praktikum ein anderes Oszilloskop verwenden, das für einige Funktionen teils andere Befehle verwendet.  \n",
    "Die korrekten Befehle finden Sie im Programmierhandbuch des jeweiligen Oszilloskops.\n",
    "\n",
    "### Import der nötigen Pythonbibliotheken\n",
    "Für die Kommunikation mit dem Oszilloskop werden die Bibliothek `pyVISA`, für die spätere Datenauswertung und -visualisierung die Bibliotheken `Numpy` und `Matplotlib` importiert. Die Funktion `sleep()` aus der Bibliothek `time` wird für nur für Wartebefehle verwendet, da das Oszilloskop manchmal wie bei dem Befehl `:AUToset`eine gewisse Zeit benötigt, bis ein Befehl ausgeführt wurde."
   ]
  },
  {
   "cell_type": "code",
   "execution_count": 1,
   "metadata": {},
   "outputs": [],
   "source": [
    "import visa\n",
    "import matplotlib.pyplot as plt\n",
    "import numpy as np\n",
    "from time import sleep"
   ]
  },
  {
   "cell_type": "markdown",
   "metadata": {},
   "source": [
    "### Suche nach IVI-Geräten und Verbindungsaufbau mit dem Oszilloskop\n",
    "Wenn im Windows Gerätemanager das Oszilloskop als \"USB Test and Measurement Device (IVI)\" erscheint, wird es durch folgende Befehle ausfindig gemacht und identifiziert:"
   ]
  },
  {
   "cell_type": "code",
   "execution_count": 2,
   "metadata": {},
   "outputs": [
    {
     "name": "stdout",
     "output_type": "stream",
     "text": [
      "('USB0::0x1AB1::0x04CE::DS1ZA181004388::INSTR', 'ASRL10::INSTR')\n"
     ]
    }
   ],
   "source": [
    "rm=visa.ResourceManager()\n",
    "inst_found=rm.list_resources() # IVI Geräte finden, Identifikationdaten in Liste abspeichern\n",
    "print(inst_found)"
   ]
  },
  {
   "cell_type": "markdown",
   "metadata": {},
   "source": [
    "Das erste Element (Index Null) der Liste `inst_found` enthält (hier in dieser speziellen Konfiguration!) das via USB angeschlossene Oszilloskop. Anschließend wird eine Verbindung aufgebaut. Damit erhält man das Objekt `inst` über dessen Methoden und Attribute auf das Messgerät zugegriffen wird.  \n",
    "Wenn Sie in der Spyder IPython-Konsole nun `inst. + <TAB>` eingeben, erscheint eine Auswahl an Methoden und Attribute für diese Klasse."
   ]
  },
  {
   "cell_type": "code",
   "execution_count": 3,
   "metadata": {},
   "outputs": [],
   "source": [
    "inst=rm.open_resource(inst_found[0])"
   ]
  },
  {
   "cell_type": "markdown",
   "metadata": {},
   "source": [
    "### Konfigurieren des Oszilloskops\n",
    "Mit dem folgenden Befehlen wird das Oszilloskop konfiguriert und Einstellungswerte werden abgefragt. Siehe Kommentare hinter den jeweiligen Befehlen. Für Befehle mit Rückgabewert - zu erkennen am abschließenden Fragezeichen im Befehlsstring - wird `query()` verwendet, für reine Schreibbefehle `write()`."
   ]
  },
  {
   "cell_type": "code",
   "execution_count": 4,
   "metadata": {},
   "outputs": [
    {
     "data": {
      "text/plain": [
       "'RIGOL TECHNOLOGIES,DS1054Z,DS1ZA181004388,00.04.03.SP2\\n'"
      ]
     },
     "execution_count": 4,
     "metadata": {},
     "output_type": "execute_result"
    }
   ],
   "source": [
    "inst.query('*IDN?') # Hersteller, Gerätetyp, Seriennummer und Firmwarestand abfragen"
   ]
  },
  {
   "cell_type": "code",
   "execution_count": 5,
   "metadata": {},
   "outputs": [],
   "source": [
    "inst.write('*CLS') # Befehls- und Fehlerspeicher löschen\n",
    "inst.write(':AUT') # Autoset durchführen\n",
    "sleep(5) # 5 Sekunden warten, nötig da sonst Programmabsturz, falls Oszi noch nicht fertig bei nächstem Befehl"
   ]
  },
  {
   "cell_type": "code",
   "execution_count": 6,
   "metadata": {},
   "outputs": [
    {
     "data": {
      "text/plain": [
       "'CHAN1\\n'"
      ]
     },
     "execution_count": 6,
     "metadata": {},
     "output_type": "execute_result"
    }
   ],
   "source": [
    "inst.query(':WAV:SOUR?') # Aktiver Kanal abfragen"
   ]
  },
  {
   "cell_type": "code",
   "execution_count": 7,
   "metadata": {},
   "outputs": [
    {
     "data": {
      "text/plain": [
       "'DC\\n'"
      ]
     },
     "execution_count": 7,
     "metadata": {},
     "output_type": "execute_result"
    }
   ],
   "source": [
    "inst.query(':CHAN1:COUP?') # Kopplungsarte des Oszilloskopeingangs"
   ]
  },
  {
   "cell_type": "markdown",
   "metadata": {},
   "source": [
    "## Messwerte und gesampelten Spannungsverlauf auslesen\n",
    "Am Oszilloskop ist am Kanal 1 ein Tastkopf angeschlossen, der vom Rechteckgenerator für die Tastkopfkalibrierung des Oszilloskops ein Signal erhält.  \n",
    "Als Beispiel wird nachfolgend eine Frequenzmessung ausgeführt."
   ]
  },
  {
   "cell_type": "code",
   "execution_count": 8,
   "metadata": {},
   "outputs": [
    {
     "data": {
      "text/plain": [
       "'9.999999e+02\\n'"
      ]
     },
     "execution_count": 8,
     "metadata": {},
     "output_type": "execute_result"
    }
   ],
   "source": [
    "inst.query('MEAS:FREQ? CHAN1')"
   ]
  },
  {
   "cell_type": "markdown",
   "metadata": {},
   "source": [
    "Im nächsten Codebeispiel wird zuerst das Oszilloskop so konfiguriert, dass es später für den gesampelten Spannungsverlauf als ASCII-String ausgibt. Anschließend werden diese Messdaten vom Oszilloskop angegefordert und in eine Stringvariable kopiert.  \n",
    "In diesem String sind die einzelnen Spannungswerte mit Kommata getrennt. Die ersten 30 Zeichen des Srtrings mit den Messwerten werden testweise ausgegeben."
   ]
  },
  {
   "cell_type": "code",
   "execution_count": 9,
   "metadata": {},
   "outputs": [
    {
     "name": "stdout",
     "output_type": "stream",
     "text": [
      "#90000156631.999961e-02,3.999961e-02,1.999961e-02,\n"
     ]
    }
   ],
   "source": [
    "inst.write(':WAV:FORM ASC') # Messkurvenausgabe als ASCII-Werte anfordern\n",
    "values_raw = inst.query(':WAV:DATA?') # Messkurve als einen durchgehenden String ausgeben\n",
    "print(values_raw[:50]) # Erste 50 Zeichen testweise ausgeben"
   ]
  },
  {
   "cell_type": "markdown",
   "metadata": {},
   "source": [
    "Die ersten 11 Zeichen des Messwertestrings sind offensichtlich keine Spannungsmesswerte und werden daher ignoriert. Über die Stringfunktion `.split()` wird aus dem langen String ab dem 12. Zeichen eine Liste mit Strings erzeugt mit je einem Spannungswert pro Element."
   ]
  },
  {
   "cell_type": "code",
   "execution_count": 10,
   "metadata": {},
   "outputs": [],
   "source": [
    "values_string_sep = values_raw[11:].split(',') # Lise mit Strings für jeden Messpunkt ab Zeichen 12"
   ]
  },
  {
   "cell_type": "markdown",
   "metadata": {},
   "source": [
    "Um im folgenden Kapitel diese Messwerte grafisch darstellen zu können, müssen diese zuerst in eine Liste mit Floats umgewandelt werden.  \n",
    "Außerdem muss noch das Samplingintervall (Zeit zwischen den einzelnen Messwerten) vom Oszillokop ausgelesen werden, um später die x-Achse skalieren zu können."
   ]
  },
  {
   "cell_type": "code",
   "execution_count": 11,
   "metadata": {},
   "outputs": [
    {
     "name": "stdout",
     "output_type": "stream",
     "text": [
      "2.000000e-06\n"
     ]
    }
   ],
   "source": [
    "values_float = [] # Umwandlung Stringliste in Floatliste\n",
    "for item in values_string_sep:\n",
    "    values_float.append(float(item))\n",
    "delta_t = inst.query(':WAV:XINC?')[:-1] # Samplingintervall ausgeben\n",
    "print(delta_t)"
   ]
  },
  {
   "cell_type": "markdown",
   "metadata": {},
   "source": [
    "## Darstellung der gesampelten Spannungsverlaufs in einem Plot\n",
    "Zuerst wird die Liste mit den Spannungsmesswerten in ein Numpy-Array umgewandelt. \n",
    "Neu in diesem Codebeispiel ist die anschließende Numpy-Funktion `arange()`, die das Array für die Samplingzeiten der Messpunkte berechnet, welches später im Plot als Array für die x-Werte dient.  \n",
    "Anschließend werden mit dem Modul `pyplot` von Matplotlib die Messwerte grafisch ausgeben."
   ]
  },
  {
   "cell_type": "code",
   "execution_count": 12,
   "metadata": {},
   "outputs": [
    {
     "data": {
      "image/png": "[encoded data removed]",
      "text/plain": [
       "<Figure size 432x288 with 1 Axes>"
      ]
     },
     "metadata": {},
     "output_type": "display_data"
    }
   ],
   "source": [
    "y_val = np.array(values_float)\n",
    "dt=float(delta_t)\n",
    "x_val = np.arange(0.0, len(values_float)*dt, dt) # x-Werte berechnen\n",
    "\n",
    "plt.plot(x_val,y_val,linewidth=2)\n",
    "plt.xlabel('Zeit in Sekunden')\n",
    "plt.ylabel('Spannung in Volt')\n",
    "plt.grid(True)"
   ]
  },
  {
   "cell_type": "code",
   "execution_count": 13,
   "metadata": {},
   "outputs": [
    {
     "data": {
      "text/plain": [
       "<bound method Resource.close of <'USBInstrument'('USB0::0x1AB1::0x04CE::DS1ZA181004388::INSTR')>>"
      ]
     },
     "execution_count": 13,
     "metadata": {},
     "output_type": "execute_result"
    }
   ],
   "source": [
    "inst.close # Beenden der Kommunikation mit dem Oszilloskop"
   ]
  }
 ],
 "metadata": {
  "kernelspec": {
   "display_name": "Python 3",
   "language": "python",
   "name": "python3"
  },
  "language_info": {
   "codemirror_mode": {
    "name": "ipython",
    "version": 3
   },
   "file_extension": ".py",
   "mimetype": "text/x-python",
   "name": "python",
   "nbconvert_exporter": "python",
   "pygments_lexer": "ipython3",
   "version": "3.7.5"
  }
 },
 "nbformat": 4,
 "nbformat_minor": 2
}
